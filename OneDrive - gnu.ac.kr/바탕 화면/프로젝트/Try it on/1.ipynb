{
 "cells": [
  {
   "cell_type": "code",
   "execution_count": 1,
   "metadata": {},
   "outputs": [
    {
     "ename": "ImportError",
     "evalue": "cannot import name 'folder_paths' from 'FitDiT' (c:\\Users\\MoonDongWon\\OneDrive - gnu.ac.kr\\바탕 화면\\프로젝트\\Try it on\\FitDiT\\__init__.py)",
     "output_type": "error",
     "traceback": [
      "\u001b[1;31m---------------------------------------------------------------------------\u001b[0m",
      "\u001b[1;31mImportError\u001b[0m                               Traceback (most recent call last)",
      "Cell \u001b[1;32mIn[1], line 1\u001b[0m\n\u001b[1;32m----> 1\u001b[0m \u001b[38;5;28;01mfrom\u001b[39;00m \u001b[38;5;21;01mloaders\u001b[39;00m \u001b[38;5;28;01mimport\u001b[39;00m FitDiTLoader, FitDiTMaskGenerator, FitDiTTryOn\n\u001b[0;32m      3\u001b[0m fitdit_loader \u001b[38;5;241m=\u001b[39m FitDiTLoader()\n\u001b[0;32m      4\u001b[0m fitdit_mask_gen \u001b[38;5;241m=\u001b[39m FitDiTMaskGenerator()\n",
      "File \u001b[1;32mc:\\Users\\MoonDongWon\\OneDrive - gnu.ac.kr\\바탕 화면\\프로젝트\\Try it on\\loaders.py:26\u001b[0m\n\u001b[0;32m     17\u001b[0m \u001b[38;5;28;01mfrom\u001b[39;00m \u001b[38;5;21;01mFitDiT\u001b[39;00m\u001b[38;5;21;01m.\u001b[39;00m\u001b[38;5;21;01msrc\u001b[39;00m\u001b[38;5;21;01m.\u001b[39;00m\u001b[38;5;21;01mutils_mask\u001b[39;00m \u001b[38;5;28;01mimport\u001b[39;00m get_mask_location\n\u001b[0;32m     18\u001b[0m \u001b[38;5;28;01mfrom\u001b[39;00m \u001b[38;5;21;01mutilities\u001b[39;00m \u001b[38;5;28;01mimport\u001b[39;00m (\n\u001b[0;32m     19\u001b[0m     pad_and_resize,\n\u001b[0;32m     20\u001b[0m     unpad_and_resize,\n\u001b[1;32m   (...)\u001b[0m\n\u001b[0;32m     24\u001b[0m     batched_pil_to_tensor,\n\u001b[0;32m     25\u001b[0m )\n\u001b[1;32m---> 26\u001b[0m \u001b[38;5;28;01mfrom\u001b[39;00m \u001b[38;5;21;01mFitDiT\u001b[39;00m \u001b[38;5;28;01mimport\u001b[39;00m folder_paths\n\u001b[0;32m     29\u001b[0m \u001b[38;5;28;01mclass\u001b[39;00m \u001b[38;5;21;01mFitDiTLoader\u001b[39;00m:\n\u001b[0;32m     30\u001b[0m     \u001b[38;5;129m@classmethod\u001b[39m\n\u001b[0;32m     31\u001b[0m     \u001b[38;5;28;01mdef\u001b[39;00m \u001b[38;5;21mINPUT_TYPES\u001b[39m(s):\n",
      "\u001b[1;31mImportError\u001b[0m: cannot import name 'folder_paths' from 'FitDiT' (c:\\Users\\MoonDongWon\\OneDrive - gnu.ac.kr\\바탕 화면\\프로젝트\\Try it on\\FitDiT\\__init__.py)"
     ]
    }
   ],
   "source": [
    "from loaders import FitDiTLoader, FitDiTMaskGenerator, FitDiTTryOn\n",
    "\n",
    "fitdit_loader = FitDiTLoader()\n",
    "fitdit_mask_gen = FitDiTMaskGenerator()\n",
    "fitdit_try_on = FitDiTTryOn()"
   ]
  },
  {
   "cell_type": "code",
   "execution_count": null,
   "metadata": {},
   "outputs": [],
   "source": []
  },
  {
   "cell_type": "code",
   "execution_count": null,
   "metadata": {},
   "outputs": [],
   "source": []
  },
  {
   "cell_type": "code",
   "execution_count": null,
   "metadata": {},
   "outputs": [],
   "source": []
  },
  {
   "cell_type": "code",
   "execution_count": null,
   "metadata": {},
   "outputs": [],
   "source": []
  },
  {
   "cell_type": "code",
   "execution_count": null,
   "metadata": {},
   "outputs": [],
   "source": []
  }
 ],
 "metadata": {
  "kernelspec": {
   "display_name": "try_it_on",
   "language": "python",
   "name": "python3"
  },
  "language_info": {
   "codemirror_mode": {
    "name": "ipython",
    "version": 3
   },
   "file_extension": ".py",
   "mimetype": "text/x-python",
   "name": "python",
   "nbconvert_exporter": "python",
   "pygments_lexer": "ipython3",
   "version": "3.10.16"
  }
 },
 "nbformat": 4,
 "nbformat_minor": 2
}
